{
 "cells": [
  {
   "cell_type": "markdown",
   "metadata": {},
   "source": [
    "# Task 8 Notebook\n",
    "***"
   ]
  },
  {
   "cell_type": "markdown",
   "metadata": {},
   "source": [
    "## Task 1 Notes\n",
    "\n",
    "After cloning the main repository for my assignment, I navigated to the repository with the command line and used the following commands to create the `data` directory, followed by the `timestamps` and `weather` subdirectories."
   ]
  },
  {
   "cell_type": "markdown",
   "metadata": {},
   "source": [
    "> `mkdir data`\n",
    ">\n",
    "> `cd data`\n",
    ">\n",
    "> `mkdir timestamps`\n",
    ">\n",
    "> `mkdir weather`"
   ]
  },
  {
   "cell_type": "markdown",
   "metadata": {},
   "source": [
    "## Task 2 Notes\n",
    "\n",
    "I started by naviagting to the `timestamps` subdirectory and creating the `now.txt` file (with some placeholder text inside)."
   ]
  },
  {
   "cell_type": "markdown",
   "metadata": {},
   "source": [
    "> `cd timestamps`\n",
    ">\n",
    "> `echo \"current date and time will go here\" > now.txt`"
   ]
  }
 ],
 "metadata": {
  "language_info": {
   "name": "python"
  }
 },
 "nbformat": 4,
 "nbformat_minor": 2
}
