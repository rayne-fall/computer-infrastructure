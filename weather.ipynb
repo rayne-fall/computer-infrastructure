{
 "cells": [
  {
   "cell_type": "markdown",
   "metadata": {},
   "source": [
    "# Task 8 Notebook\n",
    "***"
   ]
  },
  {
   "cell_type": "markdown",
   "metadata": {},
   "source": [
    "## Task 1 Notes\n",
    "\n",
    "After cloning the main repository for my assignment, I navigated to the repository with the command line and used the following commands to create the `data` directory, followed by the `timestamps` and `weather` subdirectories."
   ]
  },
  {
   "cell_type": "markdown",
   "metadata": {},
   "source": [
    "> `mkdir data`\n",
    ">\n",
    "> `cd data`\n",
    ">\n",
    "> `mkdir timestamps`\n",
    ">\n",
    "> `mkdir weather`"
   ]
  },
  {
   "cell_type": "markdown",
   "metadata": {},
   "source": [
    "## Task 2 Notes\n",
    "\n",
    "I started by navigating to the `timestamps` subdirectory and creating the `now.txt` file (with some placeholder text inside)."
   ]
  },
  {
   "cell_type": "markdown",
   "metadata": {},
   "source": [
    "> `cd timestamps`\n",
    ">\n",
    "> `echo \"current date and time will go here\" > now.txt`"
   ]
  },
  {
   "cell_type": "markdown",
   "metadata": {},
   "source": [
    "After removing the placeholder text, I then used the `date` command with the `>>` operator to append the current date and time to the file."
   ]
  },
  {
   "cell_type": "markdown",
   "metadata": {},
   "source": [
    "> `date >> ...\\data\\timestamps\\now.txt`"
   ]
  },
  {
   "cell_type": "markdown",
   "metadata": {},
   "source": [
    "Once I had repeated this ten times, I used the `more` command to confirm that the file had been properly appended, before pushing the change to my GitHub repository."
   ]
  },
  {
   "cell_type": "markdown",
   "metadata": {},
   "source": [
    "> `more now.txt`"
   ]
  },
  {
   "cell_type": "markdown",
   "metadata": {},
   "source": [
    "# Task 3 Notes"
   ]
  },
  {
   "cell_type": "markdown",
   "metadata": {},
   "source": [
    "While in the `timestamps` subdirectory, I attempted to use the `date` command to give an output in `YYYYmmdd_HHMMSS` format, while using the `>>` operator to append this to the `formatted.txt` file. \n",
    "\n",
    "> `date +\"%Y%m%d_%H%M%S\" >> formatted.txt`"
   ]
  },
  {
   "cell_type": "markdown",
   "metadata": {},
   "source": [
    "However, using this command on Virtual Studio Code on my own machine resulted in the following error message:\n",
    "\n",
    "> `Get-Date : Cannot bind parameter 'Date'. Cannot convert value \"+%Y%m%d_%H%M%S\" to type \"System.DateTime\". Error: \"String was not recognized as a valid DateTime.`"
   ]
  },
  {
   "cell_type": "markdown",
   "metadata": {},
   "source": [
    "After using `man data` and confirming that I was entering the correct format specifiers, I decided to try it again using GitHub Codespaces, and was successful."
   ]
  },
  {
   "cell_type": "markdown",
   "metadata": {},
   "source": [
    "# Task 4 Notes"
   ]
  },
  {
   "cell_type": "markdown",
   "metadata": {},
   "source": [
    "I aimed to combine the `touch` and `date` commands to create a file with the current time as the filename. After some trial-and-error with the placement of the quotation marks required to put the filename in the correct format, I had success with the following:\n",
    "\n",
    "> `touch date +\"%Y%m%d_%H%M%S\".txt`\n",
    "\n",
    "Once I had used the `ll` command to confirm that the file had been created and named correctly, I used the `rm` command to remove the files that been named incorrectly."
   ]
  },
  {
   "cell_type": "markdown",
   "metadata": {},
   "source": [
    "# Task 5 Notes"
   ]
  },
  {
   "cell_type": "markdown",
   "metadata": {},
   "source": [
    "I used the following commands to navigate out of the `timestamps` subdirectory and into the `weather` subdirectory:\n",
    "\n",
    "> `cd ..`\n",
    ">\n",
    "> `cd weather`"
   ]
  },
  {
   "cell_type": "markdown",
   "metadata": {},
   "source": [
    "To download the latest data from the Athenry weather station, I then used the `wget` command with the URL for the data, and added the `-O` option to name the file `weather.json`.\n",
    "\n",
    "> `wget -O weather.json https://prodapi.metweb.ie/observations/athenry/today`\n",
    "\n",
    "I then used the `rm` comand to remove a placeholder.txt file that I had put in the subdirectory, leaving the file with the Athenry data as the only file."
   ]
  }
 ],
 "metadata": {
  "language_info": {
   "name": "python"
  }
 },
 "nbformat": 4,
 "nbformat_minor": 2
}
